{
 "cells": [
  {
   "cell_type": "code",
   "execution_count": 1,
   "id": "3feff700-e872-40cf-8ef4-5243840f537f",
   "metadata": {},
   "outputs": [],
   "source": [
    "import pandas as pd\n",
    "import numpy as np\n",
    "\n",
    "import pickle\n",
    "import joblib\n",
    "import csv\n",
    "\n",
    "from tqdm.notebook import tqdm, trange\n",
    "from sklearn.metrics import r2_score\n",
    "from sklearn.ensemble import GradientBoostingRegressor\n",
    "\n",
    "from rdkit import Chem\n",
    "from rdkit.Chem import AllChem"
   ]
  },
  {
   "cell_type": "markdown",
   "id": "5b1d683a-a5c9-4700-b15c-4af2e2d6ae6d",
   "metadata": {},
   "source": [
    "## Load Dataset"
   ]
  },
  {
   "cell_type": "code",
   "execution_count": 2,
   "id": "9aebebe2-7a95-4db3-8936-aee81596cd35",
   "metadata": {},
   "outputs": [],
   "source": [
    "data_path = 'dataset/test_data_fix_concat.csv'\n",
    "data_df = pd.read_csv(data_path)"
   ]
  },
  {
   "cell_type": "code",
   "execution_count": 3,
   "id": "0a37d0fa-bf4b-4e3e-921d-6b9f9d33c2ff",
   "metadata": {},
   "outputs": [
    {
     "data": {
      "text/html": [
       "<div>\n",
       "<style scoped>\n",
       "    .dataframe tbody tr th:only-of-type {\n",
       "        vertical-align: middle;\n",
       "    }\n",
       "\n",
       "    .dataframe tbody tr th {\n",
       "        vertical-align: top;\n",
       "    }\n",
       "\n",
       "    .dataframe thead th {\n",
       "        text-align: right;\n",
       "    }\n",
       "</style>\n",
       "<table border=\"1\" class=\"dataframe\">\n",
       "  <thead>\n",
       "    <tr style=\"text-align: right;\">\n",
       "      <th></th>\n",
       "      <th>oil_type</th>\n",
       "      <th>blend_id</th>\n",
       "      <th>oil_property_param_title</th>\n",
       "      <th>oil_property_param_value</th>\n",
       "      <th>component_name</th>\n",
       "      <th>component_class</th>\n",
       "      <th>polymer</th>\n",
       "      <th>component_property_param_title</th>\n",
       "      <th>component_property_param_value</th>\n",
       "      <th>smiles</th>\n",
       "    </tr>\n",
       "  </thead>\n",
       "  <tbody>\n",
       "    <tr>\n",
       "      <th>0</th>\n",
       "      <td>c25411c1-0bec-41f3-8eee-81daaed2b890</td>\n",
       "      <td>d272c9a6-3332-11ed-9685-005056921581</td>\n",
       "      <td>7c8a81df-b7e7-4507-aab1-79a61fce7887</td>\n",
       "      <td>4.94</td>\n",
       "      <td>b26322a8-b4fa-41cc-a755-757b41d22919</td>\n",
       "      <td>Group 3 base oil</td>\n",
       "      <td>no</td>\n",
       "      <td>5cf8e492-dfea-4ecb-8799-a97989c46256</td>\n",
       "      <td>0.0000</td>\n",
       "      <td>CCC(C)CCCC</td>\n",
       "    </tr>\n",
       "    <tr>\n",
       "      <th>1</th>\n",
       "      <td>c25411c1-0bec-41f3-8eee-81daaed2b890</td>\n",
       "      <td>d272c9a6-3332-11ed-9685-005056921581</td>\n",
       "      <td>7c8a81df-b7e7-4507-aab1-79a61fce7887</td>\n",
       "      <td>4.94</td>\n",
       "      <td>b26322a8-b4fa-41cc-a755-757b41d22919</td>\n",
       "      <td>Group 3 base oil</td>\n",
       "      <td>no</td>\n",
       "      <td>9e2de643-ddca-487e-b9e7-69b25d8662bf</td>\n",
       "      <td>0.0000</td>\n",
       "      <td>CCC(C)CCCC</td>\n",
       "    </tr>\n",
       "    <tr>\n",
       "      <th>2</th>\n",
       "      <td>c25411c1-0bec-41f3-8eee-81daaed2b890</td>\n",
       "      <td>d272c9a6-3332-11ed-9685-005056921581</td>\n",
       "      <td>7c8a81df-b7e7-4507-aab1-79a61fce7887</td>\n",
       "      <td>4.94</td>\n",
       "      <td>b26322a8-b4fa-41cc-a755-757b41d22919</td>\n",
       "      <td>Group 3 base oil</td>\n",
       "      <td>no</td>\n",
       "      <td>f6cc205c-a44d-40e5-9462-2eab4a673e2a</td>\n",
       "      <td>0.0001</td>\n",
       "      <td>CCC(C)CCCC</td>\n",
       "    </tr>\n",
       "    <tr>\n",
       "      <th>3</th>\n",
       "      <td>c25411c1-0bec-41f3-8eee-81daaed2b890</td>\n",
       "      <td>d272c9a6-3332-11ed-9685-005056921581</td>\n",
       "      <td>7c8a81df-b7e7-4507-aab1-79a61fce7887</td>\n",
       "      <td>4.94</td>\n",
       "      <td>b26322a8-b4fa-41cc-a755-757b41d22919</td>\n",
       "      <td>Group 3 base oil</td>\n",
       "      <td>no</td>\n",
       "      <td>d6eff30f-788e-48a2-b2bd-cbba188f4e63</td>\n",
       "      <td>0.0006</td>\n",
       "      <td>CCC(C)CCCC</td>\n",
       "    </tr>\n",
       "    <tr>\n",
       "      <th>4</th>\n",
       "      <td>c25411c1-0bec-41f3-8eee-81daaed2b890</td>\n",
       "      <td>d272c9a6-3332-11ed-9685-005056921581</td>\n",
       "      <td>7c8a81df-b7e7-4507-aab1-79a61fce7887</td>\n",
       "      <td>4.94</td>\n",
       "      <td>b26322a8-b4fa-41cc-a755-757b41d22919</td>\n",
       "      <td>Group 3 base oil</td>\n",
       "      <td>no</td>\n",
       "      <td>049e5cb9-9c20-438c-9ef2-96870712a0be</td>\n",
       "      <td>0.0001</td>\n",
       "      <td>CCC(C)CCCC</td>\n",
       "    </tr>\n",
       "  </tbody>\n",
       "</table>\n",
       "</div>"
      ],
      "text/plain": [
       "                               oil_type                              blend_id  \\\n",
       "0  c25411c1-0bec-41f3-8eee-81daaed2b890  d272c9a6-3332-11ed-9685-005056921581   \n",
       "1  c25411c1-0bec-41f3-8eee-81daaed2b890  d272c9a6-3332-11ed-9685-005056921581   \n",
       "2  c25411c1-0bec-41f3-8eee-81daaed2b890  d272c9a6-3332-11ed-9685-005056921581   \n",
       "3  c25411c1-0bec-41f3-8eee-81daaed2b890  d272c9a6-3332-11ed-9685-005056921581   \n",
       "4  c25411c1-0bec-41f3-8eee-81daaed2b890  d272c9a6-3332-11ed-9685-005056921581   \n",
       "\n",
       "               oil_property_param_title  oil_property_param_value  \\\n",
       "0  7c8a81df-b7e7-4507-aab1-79a61fce7887                      4.94   \n",
       "1  7c8a81df-b7e7-4507-aab1-79a61fce7887                      4.94   \n",
       "2  7c8a81df-b7e7-4507-aab1-79a61fce7887                      4.94   \n",
       "3  7c8a81df-b7e7-4507-aab1-79a61fce7887                      4.94   \n",
       "4  7c8a81df-b7e7-4507-aab1-79a61fce7887                      4.94   \n",
       "\n",
       "                         component_name   component_class polymer  \\\n",
       "0  b26322a8-b4fa-41cc-a755-757b41d22919  Group 3 base oil      no   \n",
       "1  b26322a8-b4fa-41cc-a755-757b41d22919  Group 3 base oil      no   \n",
       "2  b26322a8-b4fa-41cc-a755-757b41d22919  Group 3 base oil      no   \n",
       "3  b26322a8-b4fa-41cc-a755-757b41d22919  Group 3 base oil      no   \n",
       "4  b26322a8-b4fa-41cc-a755-757b41d22919  Group 3 base oil      no   \n",
       "\n",
       "         component_property_param_title  component_property_param_value  \\\n",
       "0  5cf8e492-dfea-4ecb-8799-a97989c46256                          0.0000   \n",
       "1  9e2de643-ddca-487e-b9e7-69b25d8662bf                          0.0000   \n",
       "2  f6cc205c-a44d-40e5-9462-2eab4a673e2a                          0.0001   \n",
       "3  d6eff30f-788e-48a2-b2bd-cbba188f4e63                          0.0006   \n",
       "4  049e5cb9-9c20-438c-9ef2-96870712a0be                          0.0001   \n",
       "\n",
       "       smiles  \n",
       "0  CCC(C)CCCC  \n",
       "1  CCC(C)CCCC  \n",
       "2  CCC(C)CCCC  \n",
       "3  CCC(C)CCCC  \n",
       "4  CCC(C)CCCC  "
      ]
     },
     "execution_count": 3,
     "metadata": {},
     "output_type": "execute_result"
    }
   ],
   "source": [
    "data_df.head()"
   ]
  },
  {
   "cell_type": "markdown",
   "id": "0535dd7b-456e-4b63-84d7-0826d02f5c0f",
   "metadata": {},
   "source": [
    "## Remove Dublicates"
   ]
  },
  {
   "cell_type": "code",
   "execution_count": 4,
   "id": "2bf55a51-ceae-4f70-8345-9ea0c470770d",
   "metadata": {},
   "outputs": [
    {
     "data": {
      "application/vnd.jupyter.widget-view+json": {
       "model_id": "1d778ddc793b4bc7b65360821cdbe95f",
       "version_major": 2,
       "version_minor": 0
      },
      "text/plain": [
       "  0%|          | 0/10 [00:00<?, ?it/s]"
      ]
     },
     "metadata": {},
     "output_type": "display_data"
    },
    {
     "data": {
      "text/plain": [
       "109337"
      ]
     },
     "execution_count": 4,
     "metadata": {},
     "output_type": "execute_result"
    }
   ],
   "source": [
    "# For oil properties that have multiple different values (for one blend), we use the median value\n",
    "\n",
    "count_unique = data_df[np.isfinite(data_df.oil_property_param_value)].groupby(['blend_id', 'oil_property_param_title']).oil_property_param_value.unique().map(len)\n",
    "multiindex = count_unique[count_unique>1].index\n",
    "\n",
    "for idx in tqdm(multiindex):\n",
    "    vals = data_df[np.isfinite(data_df.oil_property_param_value) & (data_df.blend_id == idx[0]) & (data_df.oil_property_param_title == idx[1])].oil_property_param_value\n",
    "    newval = np.median(vals)\n",
    "    data_df.loc[(data_df.blend_id == idx[0]) & (data_df.oil_property_param_title == idx[1]) & (data_df.oil_property_param_value != newval), 'oil_property_param_value'] = newval  \n",
    "\n",
    "data_df.drop_duplicates(inplace=True)\n",
    "len(data_df)"
   ]
  },
  {
   "cell_type": "code",
   "execution_count": 5,
   "id": "642b7c0f-0d2e-4bb3-86f5-293ff5b65c82",
   "metadata": {},
   "outputs": [
    {
     "data": {
      "application/vnd.jupyter.widget-view+json": {
       "model_id": "7a75a5ea007d4a6dae9f92df872ea412",
       "version_major": 2,
       "version_minor": 0
      },
      "text/plain": [
       "  0%|          | 0/241 [00:00<?, ?it/s]"
      ]
     },
     "metadata": {},
     "output_type": "display_data"
    },
    {
     "data": {
      "text/plain": [
       "109096"
      ]
     },
     "execution_count": 5,
     "metadata": {},
     "output_type": "execute_result"
    }
   ],
   "source": [
    "# For component properties that have multiple different values (for one blend), we use the median value\n",
    "\n",
    "count_unique = data_df[np.isfinite(data_df.component_property_param_value)].groupby(['blend_id', 'oil_property_param_title', 'component_name', 'component_property_param_title']).component_property_param_value.unique().map(len)\n",
    "multiindex = count_unique[count_unique>1].index\n",
    "\n",
    "for idx in tqdm(multiindex):\n",
    "    vals = data_df[np.isfinite(data_df.component_property_param_value) & (data_df.blend_id == idx[0]) & (data_df.oil_property_param_title == idx[1])\n",
    "                        & (data_df.component_name == idx[2]) & (data_df.component_property_param_title == idx[3])].component_property_param_value\n",
    "    newval = np.median(vals)\n",
    "    data_df.loc[(data_df.blend_id == idx[0]) & (data_df.oil_property_param_title == idx[1])\n",
    "                        & (data_df.component_name == idx[2]) & (data_df.component_property_param_title == idx[3]) \n",
    "                        & (data_df.component_property_param_value != newval), 'component_property_param_value'] = newval\n",
    "\n",
    "data_df.drop_duplicates(inplace=True)\n",
    "len(data_df)"
   ]
  },
  {
   "cell_type": "code",
   "execution_count": 6,
   "id": "857cd41f-be9e-45ce-a449-5929946833c1",
   "metadata": {},
   "outputs": [
    {
     "data": {
      "application/vnd.jupyter.widget-view+json": {
       "model_id": "9ca9c44079924dabb39a643521354662",
       "version_major": 2,
       "version_minor": 0
      },
      "text/plain": [
       "  0%|          | 0/1781 [00:00<?, ?it/s]"
      ]
     },
     "metadata": {},
     "output_type": "display_data"
    },
    {
     "data": {
      "text/plain": [
       "107315"
      ]
     },
     "execution_count": 6,
     "metadata": {},
     "output_type": "execute_result"
    }
   ],
   "source": [
    "# For component properties that have both a value and NaN (for one blend), we take the non-NaN value\n",
    "\n",
    "count_unique = data_df.groupby(['blend_id', 'oil_property_param_title', 'component_name', 'component_property_param_title']).component_property_param_value.unique().map(len)\n",
    "multiindex = count_unique[count_unique>1].index\n",
    "\n",
    "for idx in tqdm(multiindex):\n",
    "    newval = data_df[np.isfinite(data_df.component_property_param_value) & (data_df.blend_id == idx[0]) & (data_df.oil_property_param_title == idx[1])\n",
    "                        & (data_df.component_name == idx[2]) & (data_df.component_property_param_title == idx[3])].component_property_param_value.mean()\n",
    "    \n",
    "    data_df.loc[(data_df.blend_id == idx[0]) & (data_df.oil_property_param_title == idx[1])\n",
    "                        & (data_df.component_name == idx[2]) & (data_df.component_property_param_title == idx[3]) \n",
    "                        & (data_df.component_property_param_value != newval), 'component_property_param_value'] = newval\n",
    "\n",
    "data_df.drop_duplicates(inplace=True)\n",
    "len(data_df)"
   ]
  },
  {
   "cell_type": "markdown",
   "id": "9fc36259-12ab-4cd3-8f97-6b26dfaf2d15",
   "metadata": {},
   "source": [
    "## Load Model"
   ]
  },
  {
   "cell_type": "code",
   "execution_count": 7,
   "id": "4041a11d-21c2-4d4b-b313-16b6506a1614",
   "metadata": {},
   "outputs": [],
   "source": [
    "model = joblib.load('model/model.joblib') "
   ]
  },
  {
   "cell_type": "code",
   "execution_count": 8,
   "id": "c1561c99-0ebd-4c4c-99c2-f7ee73496fba",
   "metadata": {},
   "outputs": [],
   "source": [
    "comp_props = pickle.load(open('model/comp_props', 'rb'))\n",
    "oil_props = pickle.load(open('model/oil_props', 'rb'))\n",
    "\n",
    "mean_compprops = pickle.load(open('model/mean_compprops', 'rb'))\n",
    "mean_oilprops = pickle.load(open('model/mean_oilprops', 'rb'))\n",
    "\n",
    "oiltype2vec = pickle.load(open('model/oiltype2vec', 'rb'))\n",
    "comptype2num = pickle.load(open('model/comptype2num', 'rb'))"
   ]
  },
  {
   "cell_type": "code",
   "execution_count": 9,
   "id": "76005dd2-7a1e-430f-8e2c-810ff83c1533",
   "metadata": {},
   "outputs": [],
   "source": [
    "base_embed = np.load('model/base_embed.npy')"
   ]
  },
  {
   "cell_type": "markdown",
   "id": "1648345d-68f6-4940-a19f-1cc69b7a67bf",
   "metadata": {},
   "source": [
    "## Feature Engineering"
   ]
  },
  {
   "cell_type": "markdown",
   "id": "06ecd1d7-3e1a-49f8-8dcb-9c2adcfb0f9f",
   "metadata": {},
   "source": [
    "### SMILES Embeddings Generation"
   ]
  },
  {
   "cell_type": "code",
   "execution_count": 11,
   "id": "cf4a5ae5-b9dd-4013-a71c-a947960bb25c",
   "metadata": {},
   "outputs": [
    {
     "name": "stdout",
     "output_type": "stream",
     "text": [
      "Number of unique SMILES: 54\n"
     ]
    }
   ],
   "source": [
    "unique_smiles = list(data_df.smiles[~data_df.smiles.isnull()].unique())\n",
    "print(f'Number of unique SMILES: {len(unique_smiles)}')"
   ]
  },
  {
   "cell_type": "code",
   "execution_count": 12,
   "id": "2976931d-3309-446f-a815-7a3282f20025",
   "metadata": {},
   "outputs": [],
   "source": [
    "elements = ['O', 'H', 'Cl', 'C']"
   ]
  },
  {
   "cell_type": "code",
   "execution_count": 13,
   "id": "a9359d0a-8417-42d2-9156-8ddd8fcf0b27",
   "metadata": {},
   "outputs": [
    {
     "data": {
      "application/vnd.jupyter.widget-view+json": {
       "model_id": "ba5cb3620d12438898b0eae6a1850b2e",
       "version_major": 2,
       "version_minor": 0
      },
      "text/plain": [
       "  0%|          | 0/54 [00:00<?, ?it/s]"
      ]
     },
     "metadata": {},
     "output_type": "display_data"
    }
   ],
   "source": [
    "embeddings = []\n",
    "\n",
    "for smiles in tqdm(unique_smiles):    \n",
    "    mol = Chem.MolFromSmiles(smiles)\n",
    "    mol_h = Chem.AddHs(mol)\n",
    "\n",
    "    num_atoms = mol_h.GetNumAtoms()\n",
    "    num_heavy = mol_h.GetNumHeavyAtoms()\n",
    "    num_atomatic = len(mol_h.GetAromaticAtoms())\n",
    "    mol_elements = list(map(lambda x: x.GetSymbol(), mol_h.GetAtoms()))\n",
    "\n",
    "    x = [num_atoms, num_heavy, num_atomatic]\n",
    "    for element in elements:\n",
    "        if element in mol_elements:\n",
    "            x.append(mol_elements.count(element))\n",
    "        else:\n",
    "            x.append(0)\n",
    "\n",
    "    AllChem.EmbedMolecule(mol_h, useRandomCoords=True)\n",
    "    try:\n",
    "        AllChem.MMFFOptimizeMolecule(mol_h, maxIters=10000)\n",
    "    except ValueError:\n",
    "        pass\n",
    "\n",
    "    num_acceptors = Chem.rdMolDescriptors.CalcNumHBA(mol_h)\n",
    "    num_donors = Chem.rdMolDescriptors.CalcNumHBD(mol_h)\n",
    "    tpsa = Chem.rdMolDescriptors.CalcTPSA(mol_h)\n",
    "    vol = AllChem.ComputeMolVolume(mol_h,gridSpacing=0.1)\n",
    "    x.append(num_acceptors)\n",
    "    x.append(num_donors)\n",
    "    x.append(tpsa)\n",
    "    x.append(vol)\n",
    "    \n",
    "    embeddings.append(x)\n",
    "\n",
    "embeddings = np.array(embeddings)"
   ]
  },
  {
   "cell_type": "code",
   "execution_count": 14,
   "id": "48b768c3-e1c7-44e2-a1d0-db9208c18fbf",
   "metadata": {},
   "outputs": [],
   "source": [
    "smiles2embedding = {unique_smiles[i] : embeddings[i] for i in range(len(unique_smiles))}"
   ]
  },
  {
   "cell_type": "markdown",
   "id": "c084908d-06e2-4a01-a230-2dc2ef645984",
   "metadata": {},
   "source": [
    "### Feature Construction"
   ]
  },
  {
   "cell_type": "code",
   "execution_count": 15,
   "id": "42ce39db-9b44-4fc6-89c5-12dd6cbea149",
   "metadata": {},
   "outputs": [
    {
     "data": {
      "application/vnd.jupyter.widget-view+json": {
       "model_id": "3c30d3b8f402413e9c4637d2de9b5ed6",
       "version_major": 2,
       "version_minor": 0
      },
      "text/plain": [
       "  0%|          | 0/138 [00:00<?, ?it/s]"
      ]
     },
     "metadata": {},
     "output_type": "display_data"
    }
   ],
   "source": [
    "blend_ids = []\n",
    "Xs = []\n",
    "\n",
    "for blend_id in tqdm(list(data_df.blend_id.unique())):\n",
    "    blend_ids.append(blend_id)\n",
    "    \n",
    "    feature_vector = []\n",
    "\n",
    "    # oil type (one-hot) -> 4-dimensional vector\n",
    "    oiltype_list = data_df[data_df.blend_id == blend_id].oil_type.unique()\n",
    "    assert len(oiltype_list) == 1, 'Several oil types for one blend'\n",
    "    oil_type = oiltype_list[0]\n",
    "    \n",
    "    try: oiltype_vec = oiltype2vec[oil_type]\n",
    "    except: oiltype_vec = [1/4]*4\n",
    "    feature_vector += oiltype_vec\n",
    "\n",
    "    # oil props -> 15-dimensional vector\n",
    "    oilprops_vec = []\n",
    "    assert max(data_df[data_df.blend_id == blend_id].groupby('oil_property_param_title').oil_property_param_value.unique().apply(lambda x: len(x)).values) == 1\n",
    "    oilprop2val = data_df[(data_df.blend_id == blend_id) & np.isfinite(data_df.oil_property_param_value)].groupby('oil_property_param_title').oil_property_param_value.mean().to_dict()\n",
    "    \n",
    "    for oil_prop in oil_props:\n",
    "        try: oilprops_vec += [oilprop2val.get(oil_prop, mean_oilprops[(oil_prop, oil_type)])]\n",
    "        except: oilprops_vec += [oilprop2val.get(oil_prop, mean_oilprops[(oil_prop, '')])]\n",
    "    feature_vector += oilprops_vec\n",
    "    \n",
    "    # component types (bag of words) -> 13-dimensional vector\n",
    "    comp_type_bow = [0]*13\n",
    "    blend_comp_types = list(data_df[data_df.blend_id == blend_id].groupby('component_name').component_class.min().values)\n",
    "    \n",
    "    for comp_type in blend_comp_types:\n",
    "        try: comp_type_bow[comptype2num[comp_type]] += 1\n",
    "        except:\n",
    "            for i in range(13):\n",
    "                comp_type_bow[i] += 1/13\n",
    "    feature_vector += comp_type_bow\n",
    "\n",
    "    # component properties -> 23-dimensional vector\n",
    "    comp_val_list = []\n",
    "    blend_comp_names = data_df[(data_df.blend_id == blend_id)].groupby(['component_name']).component_name.min().values\n",
    "    for comp_name in blend_comp_names:\n",
    "        compprop2val = data_df[(data_df.blend_id == blend_id) & (data_df.component_name == comp_name) & np.isfinite(data_df.component_property_param_value)].groupby('component_property_param_title').component_property_param_value.mean().to_dict()\n",
    "        tmp = data_df[(data_df.blend_id == blend_id) & (data_df.component_name == comp_name)].polymer.unique()\n",
    "        assert len(tmp) == 1\n",
    "        if isinstance(tmp[0], str): polymer = tmp[0]\n",
    "        else: polymer = ''\n",
    "        \n",
    "        comp_val_list.append([])\n",
    "        for comp_prop in comp_props:\n",
    "            comp_val_list[-1].append(compprop2val.get(comp_prop, mean_compprops[(comp_prop, polymer)]))\n",
    "    feature_vector += list(np.array(comp_val_list).mean(axis=0))\n",
    "    \n",
    "    # smiles rdkit embeds -> 11-dimensional vector\n",
    "    smiles_embed_list = []\n",
    "    smiles_num = (~data_df[(data_df.blend_id == blend_id)].groupby('component_name').smiles.min().isnull()).sum()\n",
    "    if smiles_num == 0:\n",
    "        smiles_embed_list = [base_embed]\n",
    "    else:\n",
    "        smiles_list = list(data_df[(data_df.blend_id == blend_id)].groupby('component_name').smiles.min().values)\n",
    "        for smiles in smiles_list:\n",
    "            if isinstance(smiles, str):\n",
    "                smiles_embed_list.append(smiles2embedding[smiles])\n",
    "    feature_vector += list(np.array(smiles_embed_list).mean(axis=0))\n",
    "    \n",
    "    Xs.append(feature_vector)\n",
    "\n",
    "Xs = np.array(Xs)"
   ]
  },
  {
   "cell_type": "code",
   "execution_count": 16,
   "id": "249df203-345e-48a9-b087-a2b58de73697",
   "metadata": {},
   "outputs": [
    {
     "name": "stdout",
     "output_type": "stream",
     "text": [
      "(138, 66)\n"
     ]
    }
   ],
   "source": [
    "print(Xs.shape)"
   ]
  },
  {
   "cell_type": "markdown",
   "id": "a3713008-fd59-4f89-9c5f-3cc919535dd1",
   "metadata": {},
   "source": [
    "## Predict"
   ]
  },
  {
   "cell_type": "code",
   "execution_count": 17,
   "id": "04ba13d8-15e9-4e46-8c06-a4bcfb8bd7c9",
   "metadata": {},
   "outputs": [],
   "source": [
    "ys_pred = np.exp(model.predict(Xs))"
   ]
  },
  {
   "cell_type": "markdown",
   "id": "a3a69741-9805-42c1-82e9-3f2e604ba882",
   "metadata": {},
   "source": [
    "## Evaluate"
   ]
  },
  {
   "cell_type": "code",
   "execution_count": 18,
   "id": "6d6a6e7b-95b0-49f0-9f43-a781dcf602c1",
   "metadata": {},
   "outputs": [],
   "source": [
    "data_results_path = 'dataset/test_set_private.csv'\n",
    "data_results_df = pd.read_csv(data_results_path)\n",
    "real_values_dict = data_results_df.set_index('blend_id')['oil_property_param_value'].to_dict()"
   ]
  },
  {
   "cell_type": "code",
   "execution_count": 19,
   "id": "845c0daa-9456-4d27-ab64-097a958d3ae6",
   "metadata": {},
   "outputs": [],
   "source": [
    "ys = [real_values_dict[blend_id] for blend_id in blend_ids]\n",
    "ys = np.array(ys)"
   ]
  },
  {
   "cell_type": "code",
   "execution_count": 20,
   "id": "83757d46-11ae-4545-b409-5c5ffbb18ad3",
   "metadata": {},
   "outputs": [
    {
     "name": "stdout",
     "output_type": "stream",
     "text": [
      "MAE:19.1, RMSD:47.6\n"
     ]
    }
   ],
   "source": [
    "print(f'MAE:{np.abs(ys-ys_pred).mean()/1e3:.1f}, RMSD:{np.sqrt(np.square(ys-ys_pred).mean())/1e3:.1f}')"
   ]
  },
  {
   "cell_type": "code",
   "execution_count": 21,
   "id": "869367a2-a646-4f3c-96cf-c1c7a6a9e86f",
   "metadata": {},
   "outputs": [
    {
     "name": "stdout",
     "output_type": "stream",
     "text": [
      "0.839\n"
     ]
    }
   ],
   "source": [
    "coefficient_of_dermination = r2_score(np.log(ys), np.log(ys_pred))\n",
    "print(f'{coefficient_of_dermination:.3f}')"
   ]
  },
  {
   "cell_type": "code",
   "execution_count": 22,
   "id": "67fd081c-5fe7-44d4-9d87-2868f0dd8eb0",
   "metadata": {},
   "outputs": [],
   "source": [
    "with open('results/test_preds.csv', 'w', newline='') as csvfile:\n",
    "    writer = csv.writer(csvfile, delimiter=',')\n",
    "    writer.writerow(['blend_id', 'y_real', 'y_pred'])\n",
    "    for blend_id, y_real, y_pred in zip(blend_ids, ys, ys_pred):\n",
    "        writer.writerow([blend_id, y_real, y_pred])"
   ]
  },
  {
   "cell_type": "code",
   "execution_count": null,
   "id": "74241d54-c2bd-432a-b7ce-b5716ddad199",
   "metadata": {},
   "outputs": [],
   "source": []
  }
 ],
 "metadata": {
  "kernelspec": {
   "display_name": "Python 3 (ipykernel)",
   "language": "python",
   "name": "python3"
  },
  "language_info": {
   "codemirror_mode": {
    "name": "ipython",
    "version": 3
   },
   "file_extension": ".py",
   "mimetype": "text/x-python",
   "name": "python",
   "nbconvert_exporter": "python",
   "pygments_lexer": "ipython3",
   "version": "3.10.9"
  }
 },
 "nbformat": 4,
 "nbformat_minor": 5
}
